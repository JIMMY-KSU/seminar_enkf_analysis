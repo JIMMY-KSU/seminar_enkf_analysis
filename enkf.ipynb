{
 "cells": [
  {
   "cell_type": "code",
   "execution_count": 346,
   "metadata": {
    "collapsed": true
   },
   "outputs": [],
   "source": [
    "import numpy as np\n",
    "from __future__ import print_function"
   ]
  },
  {
   "cell_type": "code",
   "execution_count": 568,
   "metadata": {},
   "outputs": [
    {
     "name": "stdout",
     "output_type": "stream",
     "text": [
      "\n",
      "Res:\n",
      "5000\n",
      "[ 1.01482309  0.97861639  1.29633085 -0.28393651  1.67427961  1.66007831\n",
      "  0.72184847  0.90108347]\n",
      "[[ 7.96312368]]\n",
      "[[ 8.]]\n"
     ]
    }
   ],
   "source": [
    "def err(size, cov):\n",
    "    return np.random.multivariate_normal(np.zeros(cov.shape[0]), cov, size=size).T\n",
    "\n",
    "def mean_kro(x, y):\n",
    "    C = np.zeros((x.shape[0], y.shape[0]))\n",
    "    for i in xrange(x.shape[1]):\n",
    "        C += np.dot(x[:, i:i+1], y[:, i:i+1].T)\n",
    "    return C/x.shape[1]\n",
    "\n",
    "def G(u):\n",
    "    return np.ones(u.shape[0]).dot(u).reshape((1,u.shape[1]))\n",
    "\n",
    "particles = 100\n",
    "state_dims = 8\n",
    "data_dims = 1\n",
    "\n",
    "u_real = np.ones(state_dims)\n",
    "y = G(u_real.reshape((state_dims,1))).reshape((data_dims,1))\n",
    "\n",
    "u = np.random.normal(size=state_dims*particles).reshape((state_dims, particles))\n",
    "\n",
    "gamma = 0.05\n",
    "Gamma = gamma*np.eye(data_dims)\n",
    "\n",
    "n_steps = 5000\n",
    "h = 1.0 / n_steps\n",
    "\n",
    "#for j in xrange(n_steps):\n",
    "j = 0\n",
    "while j < 5000:\n",
    "    j += 1\n",
    "    y_n = y + err(particles, Gamma/h)\n",
    "\n",
    "    p = G(u)\n",
    "    \n",
    "    p_bar = np.average(p, axis=1).reshape((data_dims,1))\n",
    "    u_bar = np.average(u, axis=1).reshape((state_dims,1))\n",
    "    \n",
    "    C_up = mean_kro(u - u_bar, p - p_bar)\n",
    "    C_pp = mean_kro(p - p_bar, p - p_bar)\n",
    "\n",
    "    for i in xrange(particles):\n",
    "        u[:,i] += np.dot(C_up, np.linalg.solve(C_pp + Gamma/h, y_n[:,i] - p[:,i]))\n",
    "    \n",
    "    u_hat = u.mean(axis=1)\n",
    "    y_hat = G(u_hat.reshape((state_dims,1))).reshape((data_dims,1))\n",
    "    \n",
    "    if (np.linalg.norm(y-y_hat) < 0.01):\n",
    "        break\n",
    "    \n",
    "print('\\nRes:')\n",
    "u_hat = u.mean(axis=1)\n",
    "y_hat = G(u_hat.reshape((state_dims,1))).reshape((data_dims,1))\n",
    "\n",
    "print(j)\n",
    "print(u_hat)\n",
    "print(y_hat)\n",
    "print(y)"
   ]
  }
 ],
 "metadata": {
  "kernelspec": {
   "display_name": "Python [conda root]",
   "language": "python",
   "name": "conda-root-py"
  },
  "language_info": {
   "codemirror_mode": {
    "name": "ipython",
    "version": 2
   },
   "file_extension": ".py",
   "mimetype": "text/x-python",
   "name": "python",
   "nbconvert_exporter": "python",
   "pygments_lexer": "ipython2",
   "version": "2.7.13"
  }
 },
 "nbformat": 4,
 "nbformat_minor": 2
}
